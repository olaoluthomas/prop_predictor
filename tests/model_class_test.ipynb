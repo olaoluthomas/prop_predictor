{
 "cells": [
  {
   "cell_type": "code",
   "execution_count": 1,
   "id": "d38e5603-2bb1-4320-9131-c98221d066f6",
   "metadata": {},
   "outputs": [],
   "source": [
    "gcs_uri = \"gs://ai-ml-vertex-d01/dm-propensity/pc/106/export_20220713_213842/model\""
   ]
  },
  {
   "cell_type": "markdown",
   "id": "0596793f-a40e-4736-9062-75bb0c513d4d",
   "metadata": {},
   "source": [
    "### Module Test (move files to /old)"
   ]
  },
  {
   "cell_type": "code",
   "execution_count": 2,
   "id": "f85783e3-0a9a-4ec4-ae88-3e78585b1d3a",
   "metadata": {},
   "outputs": [],
   "source": [
    "from proppredict import predictor"
   ]
  },
  {
   "cell_type": "code",
   "execution_count": 3,
   "id": "e96738af-0afa-48ac-9c9c-d08e5df10496",
   "metadata": {},
   "outputs": [
    {
     "name": "stdout",
     "output_type": "stream",
     "text": [
      "<module 'proppredict.predictor' from '/opt/conda/envs/prop/lib/python3.6/site-packages/proppredict/predictor.py'>\n"
     ]
    }
   ],
   "source": [
    "print(predictor)"
   ]
  },
  {
   "cell_type": "code",
   "execution_count": 4,
   "id": "acc4efd7-c627-427a-ae14-bde20dddfa31",
   "metadata": {},
   "outputs": [
    {
     "name": "stdout",
     "output_type": "stream",
     "text": [
      "CalibratedClassifierCV(base_estimator=XGBClassifier(base_score=0.10694,\n",
      "                                                    booster='gbtree',\n",
      "                                                    colsample_bylevel=0.8,\n",
      "                                                    colsample_bynode=0.8,\n",
      "                                                    colsample_bytree=0.8,\n",
      "                                                    enable_categorical=False,\n",
      "                                                    gamma=0.0425, gpu_id=-1,\n",
      "                                                    importance_type='total_gain',\n",
      "                                                    interaction_constraints='',\n",
      "                                                    learning_rate=0.37395,\n",
      "                                                    max_delta_step=0.5,\n",
      "                                                    max_depth=3,\n",
      "                                                    min_child_weight=4,\n",
      "                                                    missing=nan,\n",
      "                                                    monotone_constraints='()',\n",
      "                                                    n_estimators=200, n_jobs=4,\n",
      "                                                    num_parallel_tree=1,\n",
      "                                                    predictor='auto',\n",
      "                                                    random_state=777,\n",
      "                                                    reg_alpha=0.31,\n",
      "                                                    reg_lambda=0.1713,\n",
      "                                                    scale_pos_weight=8.35116,\n",
      "                                                    subsample=0.8,\n",
      "                                                    tree_method='approx',\n",
      "                                                    use_label_encoder=False,\n",
      "                                                    validate_parameters=1,\n",
      "                                                    verbosity=0),\n",
      "                       cv='prefit', method='isotonic')\n",
      "StandardScaler()\n"
     ]
    }
   ],
   "source": [
    "model = predictor.CprPredictor()\n",
    "model.load(gcs_uri)\n",
    "print(model._model)\n",
    "print(model._scaler)"
   ]
  },
  {
   "cell_type": "code",
   "execution_count": 5,
   "id": "d7c3c3aa-9892-4961-8485-0a17d9d47efc",
   "metadata": {},
   "outputs": [
    {
     "name": "stdout",
     "output_type": "stream",
     "text": [
      "<class 'pandas.core.frame.DataFrame'>\n",
      "RangeIndex: 50 entries, 0 to 49\n",
      "Data columns (total 29 columns):\n",
      " #   Column                       Non-Null Count  Dtype  \n",
      "---  ------                       --------------  -----  \n",
      " 0   BBB_F_DECILE_2Y              50 non-null     int64  \n",
      " 1   BBB_ONCOUPON_R_DECILE_2Y     50 non-null     int64  \n",
      " 2   COUPON_Q_01                  50 non-null     int64  \n",
      " 3   COUPON_Q_04                  50 non-null     int64  \n",
      " 4   NUM_PERIODS                  50 non-null     int64  \n",
      " 5   NUM_QUARTERS                 50 non-null     int64  \n",
      " 6   NUM_TOTAL_ITEMS              50 non-null     int64  \n",
      " 7   PH_MREDEEM182D_PERC          50 non-null     float64\n",
      " 8   PH_MREDEEM730D_PERC          50 non-null     float64\n",
      " 9   PH_PREDEEM365D               50 non-null     int64  \n",
      " 10  PH_PREDEEM548D               50 non-null     int64  \n",
      " 11  PH_PREDEEM730D               50 non-null     int64  \n",
      " 12  BBB_R_2Y                     50 non-null     int64  \n",
      " 13  A_A8642_HM_MKT_VAL           50 non-null     int64  \n",
      " 14  BBB_INSTORE_F                50 non-null     int64  \n",
      " 15  BBB_INSTORE_F_2Y             50 non-null     int64  \n",
      " 16  COUPON_SALES_Q_05            50 non-null     float64\n",
      " 17  COUPON_SALES_Q_08            50 non-null     float64\n",
      " 18  TOTAL_TXNS_L12M              50 non-null     int64  \n",
      " 19  TOTAL_SALES_L12M             50 non-null     float64\n",
      " 20  BUYS_Q_01                    50 non-null     int64  \n",
      " 21  BUYS_Q_02                    50 non-null     int64  \n",
      " 22  BUYS_M_01                    50 non-null     int64  \n",
      " 23  BUYS_M_06                    50 non-null     int64  \n",
      " 24  BUYS_Q_04                    50 non-null     int64  \n",
      " 25  BUYS_Q_08                    50 non-null     int64  \n",
      " 26  NUM_TXNS                     50 non-null     int64  \n",
      " 27  is_in_trade_area             50 non-null     int64  \n",
      " 28  A_A9350N_ECONOMIC_STB_01_10  50 non-null     int64  \n",
      "dtypes: float64(5), int64(24)\n",
      "memory usage: 11.5 KB\n"
     ]
    }
   ],
   "source": [
    "import pandas as pd\n",
    "import numpy as np\n",
    "\n",
    "data = pd.read_csv(\"sample.csv\")\n",
    "data.info()"
   ]
  },
  {
   "cell_type": "code",
   "execution_count": 11,
   "id": "6b401eca-5993-4c8f-b293-98acb0368d89",
   "metadata": {},
   "outputs": [
    {
     "data": {
      "text/plain": [
       "array([[2., 5., 1., ..., 1., 0., 0.],\n",
       "       [2., 2., 0., ..., 5., 0., 0.],\n",
       "       [2., 5., 0., ..., 5., 0., 0.],\n",
       "       ...,\n",
       "       [1., 1., 1., ..., 3., 1., 1.],\n",
       "       [2., 6., 0., ..., 2., 0., 1.],\n",
       "       [2., 1., 1., ..., 3., 1., 1.]])"
      ]
     },
     "execution_count": 11,
     "metadata": {},
     "output_type": "execute_result"
    }
   ],
   "source": [
    "array = np.asarray(data)\n",
    "array"
   ]
  },
  {
   "cell_type": "code",
   "execution_count": 13,
   "id": "581ccc0f-0404-47c2-b4f8-084c70d59d36",
   "metadata": {},
   "outputs": [],
   "source": [
    "pred = model.predict(array)"
   ]
  },
  {
   "cell_type": "code",
   "execution_count": 14,
   "id": "3f1bc52d-82fd-43b8-92b7-2272b6320893",
   "metadata": {},
   "outputs": [
    {
     "data": {
      "text/plain": [
       "{'predictions': [0.07355865091085434,\n",
       "  0.22727273404598236,\n",
       "  0.103515625,\n",
       "  0.08708357810974121,\n",
       "  0.08708357810974121,\n",
       "  0.22727273404598236,\n",
       "  0.11557179689407349,\n",
       "  0.04415584355592728,\n",
       "  0.11857707798480988,\n",
       "  0.11857707798480988,\n",
       "  0.04415584355592728,\n",
       "  0.08708357810974121,\n",
       "  0.08666666597127914,\n",
       "  0.103515625,\n",
       "  0.08708357810974121,\n",
       "  0.08708357810974121,\n",
       "  0.103515625,\n",
       "  0.11557179689407349,\n",
       "  0.103515625,\n",
       "  0.11557179689407349,\n",
       "  0.2014652043581009,\n",
       "  0.06739526242017746,\n",
       "  0.11557179689407349,\n",
       "  0.103515625,\n",
       "  0.11557179689407349,\n",
       "  0.11557179689407349,\n",
       "  0.11557179689407349,\n",
       "  0.14631782472133636,\n",
       "  0.103515625,\n",
       "  0.07355865091085434,\n",
       "  0.08708357810974121,\n",
       "  0.11557179689407349,\n",
       "  0.2014652043581009,\n",
       "  0.15603594481945038,\n",
       "  0.11557179689407349,\n",
       "  0.14204545319080353,\n",
       "  0.14631782472133636,\n",
       "  0.07355865091085434,\n",
       "  0.22727273404598236,\n",
       "  0.103515625,\n",
       "  0.14204545319080353,\n",
       "  0.14204545319080353,\n",
       "  0.11557179689407349,\n",
       "  0.08708357810974121,\n",
       "  0.14204545319080353,\n",
       "  0.103515625,\n",
       "  0.2014652043581009,\n",
       "  0.14631782472133636,\n",
       "  0.06739526242017746,\n",
       "  0.103515625]}"
      ]
     },
     "execution_count": 14,
     "metadata": {},
     "output_type": "execute_result"
    }
   ],
   "source": [
    "response = {\"predictions\": pred}\n",
    "response"
   ]
  },
  {
   "cell_type": "code",
   "execution_count": 19,
   "id": "a8bac467-a9e4-4d7a-a618-18306d9458f6",
   "metadata": {},
   "outputs": [],
   "source": [
    "import json"
   ]
  },
  {
   "cell_type": "code",
   "execution_count": 20,
   "id": "7de5056c-8568-4548-b479-1b1932771f75",
   "metadata": {},
   "outputs": [
    {
     "ename": "TypeError",
     "evalue": "dump() missing 1 required positional argument: 'fp'",
     "output_type": "error",
     "traceback": [
      "\u001b[0;31m---------------------------------------------------------------------------\u001b[0m",
      "\u001b[0;31mTypeError\u001b[0m                                 Traceback (most recent call last)",
      "\u001b[0;32m<ipython-input-20-d77810d475fe>\u001b[0m in \u001b[0;36m<module>\u001b[0;34m\u001b[0m\n\u001b[0;32m----> 1\u001b[0;31m \u001b[0mjson\u001b[0m\u001b[0;34m.\u001b[0m\u001b[0mdump\u001b[0m\u001b[0;34m(\u001b[0m\u001b[0mresponse\u001b[0m\u001b[0;34m)\u001b[0m\u001b[0;34m\u001b[0m\u001b[0;34m\u001b[0m\u001b[0m\n\u001b[0m",
      "\u001b[0;31mTypeError\u001b[0m: dump() missing 1 required positional argument: 'fp'"
     ]
    }
   ],
   "source": [
    "json.dump(response)"
   ]
  },
  {
   "cell_type": "markdown",
   "id": "68e70b29-3505-4703-9738-ea390fccf78c",
   "metadata": {},
   "source": [
    "### File Test"
   ]
  },
  {
   "cell_type": "code",
   "execution_count": 2,
   "id": "445ab868-7ac3-45c9-b560-765ce73d18e0",
   "metadata": {},
   "outputs": [],
   "source": [
    "import predictor"
   ]
  },
  {
   "cell_type": "code",
   "execution_count": 3,
   "id": "3b55e8d6-9016-4f9a-a21c-0d9cb7b5161d",
   "metadata": {},
   "outputs": [],
   "source": [
    "model = predictor.CprPredictor()\n",
    "model.load(gcs_uri)"
   ]
  },
  {
   "cell_type": "code",
   "execution_count": 4,
   "id": "6172516f-e5b7-47ff-a983-28bda25872de",
   "metadata": {},
   "outputs": [
    {
     "data": {
      "text/plain": [
       "CalibratedClassifierCV(base_estimator=XGBClassifier(base_score=0.10694,\n",
       "                                                    booster='gbtree',\n",
       "                                                    colsample_bylevel=0.8,\n",
       "                                                    colsample_bynode=0.8,\n",
       "                                                    colsample_bytree=0.8,\n",
       "                                                    enable_categorical=False,\n",
       "                                                    gamma=0.0425, gpu_id=-1,\n",
       "                                                    importance_type='total_gain',\n",
       "                                                    interaction_constraints='',\n",
       "                                                    learning_rate=0.37395,\n",
       "                                                    max_delta_step=0.5,\n",
       "                                                    max_depth=3,\n",
       "                                                    min_child_weight=4,\n",
       "                                                    missing=nan,\n",
       "                                                    monotone_constraints='()',\n",
       "                                                    n_estimators=200, n_jobs=4,\n",
       "                                                    num_parallel_tree=1,\n",
       "                                                    predictor='auto',\n",
       "                                                    random_state=777,\n",
       "                                                    reg_alpha=0.31,\n",
       "                                                    reg_lambda=0.1713,\n",
       "                                                    scale_pos_weight=8.35116,\n",
       "                                                    subsample=0.8,\n",
       "                                                    tree_method='approx',\n",
       "                                                    use_label_encoder=False,\n",
       "                                                    validate_parameters=1,\n",
       "                                                    verbosity=0),\n",
       "                       cv='prefit', method='isotonic')"
      ]
     },
     "execution_count": 4,
     "metadata": {},
     "output_type": "execute_result"
    }
   ],
   "source": [
    "model._model"
   ]
  },
  {
   "cell_type": "code",
   "execution_count": 5,
   "id": "d4b82501-f3de-46b6-ad3b-ec153523ade6",
   "metadata": {},
   "outputs": [
    {
     "data": {
      "text/plain": [
       "StandardScaler()"
      ]
     },
     "execution_count": 5,
     "metadata": {},
     "output_type": "execute_result"
    }
   ],
   "source": [
    "model._scaler"
   ]
  },
  {
   "cell_type": "code",
   "execution_count": 8,
   "id": "b0e86b86-0960-4e65-8179-33be995706b5",
   "metadata": {},
   "outputs": [
    {
     "name": "stdout",
     "output_type": "stream",
     "text": [
      "CalibratedClassifierCV(base_estimator=XGBClassifier(base_score=0.10694,\n",
      "                                                    booster='gbtree',\n",
      "                                                    colsample_bylevel=0.8,\n",
      "                                                    colsample_bynode=0.8,\n",
      "                                                    colsample_bytree=0.8,\n",
      "                                                    enable_categorical=False,\n",
      "                                                    gamma=0.0425, gpu_id=-1,\n",
      "                                                    importance_type='total_gain',\n",
      "                                                    interaction_constraints='',\n",
      "                                                    learning_rate=0.37395,\n",
      "                                                    max_delta_step=0.5,\n",
      "                                                    max_depth=3,\n",
      "                                                    min_child_weight=4,\n",
      "                                                    missing=nan,\n",
      "                                                    monotone_constraints='()',\n",
      "                                                    n_estimators=200, n_jobs=4,\n",
      "                                                    num_parallel_tree=1,\n",
      "                                                    predictor='auto',\n",
      "                                                    random_state=777,\n",
      "                                                    reg_alpha=0.31,\n",
      "                                                    reg_lambda=0.1713,\n",
      "                                                    scale_pos_weight=8.35116,\n",
      "                                                    subsample=0.8,\n",
      "                                                    tree_method='approx',\n",
      "                                                    use_label_encoder=False,\n",
      "                                                    validate_parameters=1,\n",
      "                                                    verbosity=0),\n",
      "                       cv='prefit', method='isotonic')\n",
      "StandardScaler()\n"
     ]
    }
   ],
   "source": [
    "import predictor_v1\n",
    "\n",
    "customPredictor = predictor_v1.Predictor.from_path(gcs_uri)\n",
    "print(customPredictor._model)\n",
    "print(customPredictor._scaler)"
   ]
  },
  {
   "cell_type": "code",
   "execution_count": null,
   "id": "c3a7a067-272d-46b6-a20c-cf699d81aaa8",
   "metadata": {},
   "outputs": [],
   "source": []
  }
 ],
 "metadata": {
  "environment": {
   "name": "tf2-gpu.2-3.m81",
   "type": "gcloud",
   "uri": "gcr.io/deeplearning-platform-release/tf2-gpu.2-3:m81"
  },
  "kernelspec": {
   "display_name": "Python [conda env:prop]",
   "language": "python",
   "name": "conda-env-prop-py"
  },
  "language_info": {
   "codemirror_mode": {
    "name": "ipython",
    "version": 3
   },
   "file_extension": ".py",
   "mimetype": "text/x-python",
   "name": "python",
   "nbconvert_exporter": "python",
   "pygments_lexer": "ipython3",
   "version": "3.6.15"
  }
 },
 "nbformat": 4,
 "nbformat_minor": 5
}
